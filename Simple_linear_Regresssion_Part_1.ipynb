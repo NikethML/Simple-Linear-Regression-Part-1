{
  "nbformat": 4,
  "nbformat_minor": 0,
  "metadata": {
    "colab": {
      "provenance": [],
      "collapsed_sections": [],
      "authorship_tag": "ABX9TyPtuVyJsgsdrl+rUleQgmXo",
      "include_colab_link": true
    },
    "kernelspec": {
      "name": "python3",
      "display_name": "Python 3"
    },
    "language_info": {
      "name": "python"
    }
  },
  "cells": [
    {
      "cell_type": "markdown",
      "metadata": {
        "id": "view-in-github",
        "colab_type": "text"
      },
      "source": [
        "<a href=\"https://colab.research.google.com/github/NikethML/Simple-Linear-Regression-Part-1/blob/main/Simple_linear_Regresssion_Part_1.ipynb\" target=\"_parent\"><img src=\"https://colab.research.google.com/assets/colab-badge.svg\" alt=\"Open In Colab\"/></a>"
      ]
    },
    {
      "cell_type": "markdown",
      "source": [
        "Niketh Narasimhan"
      ],
      "metadata": {
        "id": "mBppz7wbZ-ex"
      }
    },
    {
      "cell_type": "markdown",
      "source": [
        "Simple linear Regression Part 1"
      ],
      "metadata": {
        "id": "f2lS7oE5aBbB"
      }
    },
    {
      "cell_type": "code",
      "execution_count": 2,
      "metadata": {
        "id": "z0uNoOdCZ9LQ"
      },
      "outputs": [],
      "source": [
        "#Package imports needed\n",
        "import pandas as pd\n",
        "import numpy as np\n",
        "import matplotlib.pyplot as plt\n",
        "from sklearn.model_selection import train_test_split\n",
        "import statsmodels.api as sm\n",
        "import seaborn as sns\n",
        "from scipy import stats\n",
        "import scipy\n",
        "\n"
      ]
    },
    {
      "cell_type": "code",
      "source": [
        "url='https://raw.githubusercontent.com/NikethML/Simple-Linear-Regression-Part-1/main/EPL_Soccer_MLR_LR.csv?token=GHSAT0AAAAAABYU6Q7EVTKY2TAB4DGT7RHIYY623AA'\n",
        "df= pd.read_csv(url)\n",
        "# Dataset is now stored in a Pandas Dataframe"
      ],
      "metadata": {
        "id": "-D9RzPpmah8d"
      },
      "execution_count": 6,
      "outputs": []
    },
    {
      "cell_type": "code",
      "source": [
        "# Get basic description of the data, looking the spread of the different variables,\n",
        "# along with  abrupt changes between the minimum, 25th, 50th, 75th, and max for the different variables\n",
        "df.describe()"
      ],
      "metadata": {
        "colab": {
          "base_uri": "https://localhost:8080/",
          "height": 344
        },
        "id": "bJSt5Z-3aVzi",
        "outputId": "26337d37-7c4a-4915-ee89-b913e6c17691"
      },
      "execution_count": 7,
      "outputs": [
        {
          "output_type": "execute_result",
          "data": {
            "text/plain": [
              "       DistanceCovered(InKms)       Goals  MinutestoGoalRatio  ShotsPerGame  \\\n",
              "count              202.000000  202.000000          202.000000    202.000000   \n",
              "mean                 4.718614    7.108663           43.091584     14.566337   \n",
              "std                  0.457976    1.800549            3.662989      1.362451   \n",
              "min                  3.800000    3.300000           35.900000     11.600000   \n",
              "25%                  4.372500    5.900000           40.600000     13.500000   \n",
              "50%                  4.755000    6.850000           43.500000     14.700000   \n",
              "75%                  5.030000    8.275000           45.575000     15.575000   \n",
              "max                  6.720000   14.300000           59.700000     19.200000   \n",
              "\n",
              "       AgentCharges         BMI        Cost  PreviousClubCost      Height  \\\n",
              "count    202.000000  202.000000  202.000000        202.000000  202.000000   \n",
              "mean      76.876238   22.955891   69.021782         64.873713  180.103960   \n",
              "std       47.501239    2.863933   32.565333         13.070197    9.734494   \n",
              "min        8.000000   16.750000   28.000000         34.360000  148.900000   \n",
              "25%       41.250000   21.082500   43.850000         54.667500  174.000000   \n",
              "50%       65.500000   22.720000   58.600000         63.035000  179.700000   \n",
              "75%       97.000000   24.465000   90.350000         74.750000  186.175000   \n",
              "max      234.000000   34.420000  200.800000        106.000000  209.400000   \n",
              "\n",
              "           Weight       Score  \n",
              "count  202.000000  202.000000  \n",
              "mean    75.008168   13.507426  \n",
              "std     13.925574    6.189826  \n",
              "min     37.800000    5.630000  \n",
              "25%     66.525000    8.545000  \n",
              "50%     74.400000   11.650000  \n",
              "75%     84.125000   18.080000  \n",
              "max    123.200000   35.520000  "
            ],
            "text/html": [
              "\n",
              "  <div id=\"df-1bb9db21-5928-4c3b-aa06-21163c54de9d\">\n",
              "    <div class=\"colab-df-container\">\n",
              "      <div>\n",
              "<style scoped>\n",
              "    .dataframe tbody tr th:only-of-type {\n",
              "        vertical-align: middle;\n",
              "    }\n",
              "\n",
              "    .dataframe tbody tr th {\n",
              "        vertical-align: top;\n",
              "    }\n",
              "\n",
              "    .dataframe thead th {\n",
              "        text-align: right;\n",
              "    }\n",
              "</style>\n",
              "<table border=\"1\" class=\"dataframe\">\n",
              "  <thead>\n",
              "    <tr style=\"text-align: right;\">\n",
              "      <th></th>\n",
              "      <th>DistanceCovered(InKms)</th>\n",
              "      <th>Goals</th>\n",
              "      <th>MinutestoGoalRatio</th>\n",
              "      <th>ShotsPerGame</th>\n",
              "      <th>AgentCharges</th>\n",
              "      <th>BMI</th>\n",
              "      <th>Cost</th>\n",
              "      <th>PreviousClubCost</th>\n",
              "      <th>Height</th>\n",
              "      <th>Weight</th>\n",
              "      <th>Score</th>\n",
              "    </tr>\n",
              "  </thead>\n",
              "  <tbody>\n",
              "    <tr>\n",
              "      <th>count</th>\n",
              "      <td>202.000000</td>\n",
              "      <td>202.000000</td>\n",
              "      <td>202.000000</td>\n",
              "      <td>202.000000</td>\n",
              "      <td>202.000000</td>\n",
              "      <td>202.000000</td>\n",
              "      <td>202.000000</td>\n",
              "      <td>202.000000</td>\n",
              "      <td>202.000000</td>\n",
              "      <td>202.000000</td>\n",
              "      <td>202.000000</td>\n",
              "    </tr>\n",
              "    <tr>\n",
              "      <th>mean</th>\n",
              "      <td>4.718614</td>\n",
              "      <td>7.108663</td>\n",
              "      <td>43.091584</td>\n",
              "      <td>14.566337</td>\n",
              "      <td>76.876238</td>\n",
              "      <td>22.955891</td>\n",
              "      <td>69.021782</td>\n",
              "      <td>64.873713</td>\n",
              "      <td>180.103960</td>\n",
              "      <td>75.008168</td>\n",
              "      <td>13.507426</td>\n",
              "    </tr>\n",
              "    <tr>\n",
              "      <th>std</th>\n",
              "      <td>0.457976</td>\n",
              "      <td>1.800549</td>\n",
              "      <td>3.662989</td>\n",
              "      <td>1.362451</td>\n",
              "      <td>47.501239</td>\n",
              "      <td>2.863933</td>\n",
              "      <td>32.565333</td>\n",
              "      <td>13.070197</td>\n",
              "      <td>9.734494</td>\n",
              "      <td>13.925574</td>\n",
              "      <td>6.189826</td>\n",
              "    </tr>\n",
              "    <tr>\n",
              "      <th>min</th>\n",
              "      <td>3.800000</td>\n",
              "      <td>3.300000</td>\n",
              "      <td>35.900000</td>\n",
              "      <td>11.600000</td>\n",
              "      <td>8.000000</td>\n",
              "      <td>16.750000</td>\n",
              "      <td>28.000000</td>\n",
              "      <td>34.360000</td>\n",
              "      <td>148.900000</td>\n",
              "      <td>37.800000</td>\n",
              "      <td>5.630000</td>\n",
              "    </tr>\n",
              "    <tr>\n",
              "      <th>25%</th>\n",
              "      <td>4.372500</td>\n",
              "      <td>5.900000</td>\n",
              "      <td>40.600000</td>\n",
              "      <td>13.500000</td>\n",
              "      <td>41.250000</td>\n",
              "      <td>21.082500</td>\n",
              "      <td>43.850000</td>\n",
              "      <td>54.667500</td>\n",
              "      <td>174.000000</td>\n",
              "      <td>66.525000</td>\n",
              "      <td>8.545000</td>\n",
              "    </tr>\n",
              "    <tr>\n",
              "      <th>50%</th>\n",
              "      <td>4.755000</td>\n",
              "      <td>6.850000</td>\n",
              "      <td>43.500000</td>\n",
              "      <td>14.700000</td>\n",
              "      <td>65.500000</td>\n",
              "      <td>22.720000</td>\n",
              "      <td>58.600000</td>\n",
              "      <td>63.035000</td>\n",
              "      <td>179.700000</td>\n",
              "      <td>74.400000</td>\n",
              "      <td>11.650000</td>\n",
              "    </tr>\n",
              "    <tr>\n",
              "      <th>75%</th>\n",
              "      <td>5.030000</td>\n",
              "      <td>8.275000</td>\n",
              "      <td>45.575000</td>\n",
              "      <td>15.575000</td>\n",
              "      <td>97.000000</td>\n",
              "      <td>24.465000</td>\n",
              "      <td>90.350000</td>\n",
              "      <td>74.750000</td>\n",
              "      <td>186.175000</td>\n",
              "      <td>84.125000</td>\n",
              "      <td>18.080000</td>\n",
              "    </tr>\n",
              "    <tr>\n",
              "      <th>max</th>\n",
              "      <td>6.720000</td>\n",
              "      <td>14.300000</td>\n",
              "      <td>59.700000</td>\n",
              "      <td>19.200000</td>\n",
              "      <td>234.000000</td>\n",
              "      <td>34.420000</td>\n",
              "      <td>200.800000</td>\n",
              "      <td>106.000000</td>\n",
              "      <td>209.400000</td>\n",
              "      <td>123.200000</td>\n",
              "      <td>35.520000</td>\n",
              "    </tr>\n",
              "  </tbody>\n",
              "</table>\n",
              "</div>\n",
              "      <button class=\"colab-df-convert\" onclick=\"convertToInteractive('df-1bb9db21-5928-4c3b-aa06-21163c54de9d')\"\n",
              "              title=\"Convert this dataframe to an interactive table.\"\n",
              "              style=\"display:none;\">\n",
              "        \n",
              "  <svg xmlns=\"http://www.w3.org/2000/svg\" height=\"24px\"viewBox=\"0 0 24 24\"\n",
              "       width=\"24px\">\n",
              "    <path d=\"M0 0h24v24H0V0z\" fill=\"none\"/>\n",
              "    <path d=\"M18.56 5.44l.94 2.06.94-2.06 2.06-.94-2.06-.94-.94-2.06-.94 2.06-2.06.94zm-11 1L8.5 8.5l.94-2.06 2.06-.94-2.06-.94L8.5 2.5l-.94 2.06-2.06.94zm10 10l.94 2.06.94-2.06 2.06-.94-2.06-.94-.94-2.06-.94 2.06-2.06.94z\"/><path d=\"M17.41 7.96l-1.37-1.37c-.4-.4-.92-.59-1.43-.59-.52 0-1.04.2-1.43.59L10.3 9.45l-7.72 7.72c-.78.78-.78 2.05 0 2.83L4 21.41c.39.39.9.59 1.41.59.51 0 1.02-.2 1.41-.59l7.78-7.78 2.81-2.81c.8-.78.8-2.07 0-2.86zM5.41 20L4 18.59l7.72-7.72 1.47 1.35L5.41 20z\"/>\n",
              "  </svg>\n",
              "      </button>\n",
              "      \n",
              "  <style>\n",
              "    .colab-df-container {\n",
              "      display:flex;\n",
              "      flex-wrap:wrap;\n",
              "      gap: 12px;\n",
              "    }\n",
              "\n",
              "    .colab-df-convert {\n",
              "      background-color: #E8F0FE;\n",
              "      border: none;\n",
              "      border-radius: 50%;\n",
              "      cursor: pointer;\n",
              "      display: none;\n",
              "      fill: #1967D2;\n",
              "      height: 32px;\n",
              "      padding: 0 0 0 0;\n",
              "      width: 32px;\n",
              "    }\n",
              "\n",
              "    .colab-df-convert:hover {\n",
              "      background-color: #E2EBFA;\n",
              "      box-shadow: 0px 1px 2px rgba(60, 64, 67, 0.3), 0px 1px 3px 1px rgba(60, 64, 67, 0.15);\n",
              "      fill: #174EA6;\n",
              "    }\n",
              "\n",
              "    [theme=dark] .colab-df-convert {\n",
              "      background-color: #3B4455;\n",
              "      fill: #D2E3FC;\n",
              "    }\n",
              "\n",
              "    [theme=dark] .colab-df-convert:hover {\n",
              "      background-color: #434B5C;\n",
              "      box-shadow: 0px 1px 3px 1px rgba(0, 0, 0, 0.15);\n",
              "      filter: drop-shadow(0px 1px 2px rgba(0, 0, 0, 0.3));\n",
              "      fill: #FFFFFF;\n",
              "    }\n",
              "  </style>\n",
              "\n",
              "      <script>\n",
              "        const buttonEl =\n",
              "          document.querySelector('#df-1bb9db21-5928-4c3b-aa06-21163c54de9d button.colab-df-convert');\n",
              "        buttonEl.style.display =\n",
              "          google.colab.kernel.accessAllowed ? 'block' : 'none';\n",
              "\n",
              "        async function convertToInteractive(key) {\n",
              "          const element = document.querySelector('#df-1bb9db21-5928-4c3b-aa06-21163c54de9d');\n",
              "          const dataTable =\n",
              "            await google.colab.kernel.invokeFunction('convertToInteractive',\n",
              "                                                     [key], {});\n",
              "          if (!dataTable) return;\n",
              "\n",
              "          const docLinkHtml = 'Like what you see? Visit the ' +\n",
              "            '<a target=\"_blank\" href=https://colab.research.google.com/notebooks/data_table.ipynb>data table notebook</a>'\n",
              "            + ' to learn more about interactive tables.';\n",
              "          element.innerHTML = '';\n",
              "          dataTable['output_type'] = 'display_data';\n",
              "          await google.colab.output.renderOutput(dataTable, element);\n",
              "          const docLink = document.createElement('div');\n",
              "          docLink.innerHTML = docLinkHtml;\n",
              "          element.appendChild(docLink);\n",
              "        }\n",
              "      </script>\n",
              "    </div>\n",
              "  </div>\n",
              "  "
            ]
          },
          "metadata": {},
          "execution_count": 7
        }
      ]
    },
    {
      "cell_type": "code",
      "source": [
        "df.head()"
      ],
      "metadata": {
        "colab": {
          "base_uri": "https://localhost:8080/",
          "height": 250
        },
        "id": "Zem33DqRf2-G",
        "outputId": "dfb447a2-10e2-420f-bcb6-c2ba2d0cae98"
      },
      "execution_count": 9,
      "outputs": [
        {
          "output_type": "execute_result",
          "data": {
            "text/plain": [
              "                       PlayerName Club  DistanceCovered(InKms)  Goals  \\\n",
              "0         Braund, Mr. Owen Harris  MUN                    3.96    7.5   \n",
              "1        Allen, Mr. William Henry  MUN                    4.41    8.3   \n",
              "2                Moran, Mr. James  MUN                    4.14    5.0   \n",
              "3         McCarthy, Mr. Timothy J  MUN                    4.11    5.3   \n",
              "4  Palsson, Master. Gosta Leonard  MUN                    4.45    6.8   \n",
              "\n",
              "   MinutestoGoalRatio  ShotsPerGame  AgentCharges    BMI   Cost  \\\n",
              "0                37.5          12.3            60  20.56  109.1   \n",
              "1                38.2          12.7            68  20.67  102.8   \n",
              "2                36.4          11.6            21  21.86  104.6   \n",
              "3                37.3          12.6            69  21.88  126.4   \n",
              "4                41.5          14.0            29  18.96   80.3   \n",
              "\n",
              "   PreviousClubCost  Height  Weight  Score  \n",
              "0             63.32   195.9    78.9  19.75  \n",
              "1             58.55   189.7    74.4  21.30  \n",
              "2             55.36   177.8    69.1  19.88  \n",
              "3             57.18   185.0    74.9  23.66  \n",
              "4             53.20   184.6    64.6  17.64  "
            ],
            "text/html": [
              "\n",
              "  <div id=\"df-54dbfda3-7f0c-4f0a-9de1-f8b6ba775209\">\n",
              "    <div class=\"colab-df-container\">\n",
              "      <div>\n",
              "<style scoped>\n",
              "    .dataframe tbody tr th:only-of-type {\n",
              "        vertical-align: middle;\n",
              "    }\n",
              "\n",
              "    .dataframe tbody tr th {\n",
              "        vertical-align: top;\n",
              "    }\n",
              "\n",
              "    .dataframe thead th {\n",
              "        text-align: right;\n",
              "    }\n",
              "</style>\n",
              "<table border=\"1\" class=\"dataframe\">\n",
              "  <thead>\n",
              "    <tr style=\"text-align: right;\">\n",
              "      <th></th>\n",
              "      <th>PlayerName</th>\n",
              "      <th>Club</th>\n",
              "      <th>DistanceCovered(InKms)</th>\n",
              "      <th>Goals</th>\n",
              "      <th>MinutestoGoalRatio</th>\n",
              "      <th>ShotsPerGame</th>\n",
              "      <th>AgentCharges</th>\n",
              "      <th>BMI</th>\n",
              "      <th>Cost</th>\n",
              "      <th>PreviousClubCost</th>\n",
              "      <th>Height</th>\n",
              "      <th>Weight</th>\n",
              "      <th>Score</th>\n",
              "    </tr>\n",
              "  </thead>\n",
              "  <tbody>\n",
              "    <tr>\n",
              "      <th>0</th>\n",
              "      <td>Braund, Mr. Owen Harris</td>\n",
              "      <td>MUN</td>\n",
              "      <td>3.96</td>\n",
              "      <td>7.5</td>\n",
              "      <td>37.5</td>\n",
              "      <td>12.3</td>\n",
              "      <td>60</td>\n",
              "      <td>20.56</td>\n",
              "      <td>109.1</td>\n",
              "      <td>63.32</td>\n",
              "      <td>195.9</td>\n",
              "      <td>78.9</td>\n",
              "      <td>19.75</td>\n",
              "    </tr>\n",
              "    <tr>\n",
              "      <th>1</th>\n",
              "      <td>Allen, Mr. William Henry</td>\n",
              "      <td>MUN</td>\n",
              "      <td>4.41</td>\n",
              "      <td>8.3</td>\n",
              "      <td>38.2</td>\n",
              "      <td>12.7</td>\n",
              "      <td>68</td>\n",
              "      <td>20.67</td>\n",
              "      <td>102.8</td>\n",
              "      <td>58.55</td>\n",
              "      <td>189.7</td>\n",
              "      <td>74.4</td>\n",
              "      <td>21.30</td>\n",
              "    </tr>\n",
              "    <tr>\n",
              "      <th>2</th>\n",
              "      <td>Moran, Mr. James</td>\n",
              "      <td>MUN</td>\n",
              "      <td>4.14</td>\n",
              "      <td>5.0</td>\n",
              "      <td>36.4</td>\n",
              "      <td>11.6</td>\n",
              "      <td>21</td>\n",
              "      <td>21.86</td>\n",
              "      <td>104.6</td>\n",
              "      <td>55.36</td>\n",
              "      <td>177.8</td>\n",
              "      <td>69.1</td>\n",
              "      <td>19.88</td>\n",
              "    </tr>\n",
              "    <tr>\n",
              "      <th>3</th>\n",
              "      <td>McCarthy, Mr. Timothy J</td>\n",
              "      <td>MUN</td>\n",
              "      <td>4.11</td>\n",
              "      <td>5.3</td>\n",
              "      <td>37.3</td>\n",
              "      <td>12.6</td>\n",
              "      <td>69</td>\n",
              "      <td>21.88</td>\n",
              "      <td>126.4</td>\n",
              "      <td>57.18</td>\n",
              "      <td>185.0</td>\n",
              "      <td>74.9</td>\n",
              "      <td>23.66</td>\n",
              "    </tr>\n",
              "    <tr>\n",
              "      <th>4</th>\n",
              "      <td>Palsson, Master. Gosta Leonard</td>\n",
              "      <td>MUN</td>\n",
              "      <td>4.45</td>\n",
              "      <td>6.8</td>\n",
              "      <td>41.5</td>\n",
              "      <td>14.0</td>\n",
              "      <td>29</td>\n",
              "      <td>18.96</td>\n",
              "      <td>80.3</td>\n",
              "      <td>53.20</td>\n",
              "      <td>184.6</td>\n",
              "      <td>64.6</td>\n",
              "      <td>17.64</td>\n",
              "    </tr>\n",
              "  </tbody>\n",
              "</table>\n",
              "</div>\n",
              "      <button class=\"colab-df-convert\" onclick=\"convertToInteractive('df-54dbfda3-7f0c-4f0a-9de1-f8b6ba775209')\"\n",
              "              title=\"Convert this dataframe to an interactive table.\"\n",
              "              style=\"display:none;\">\n",
              "        \n",
              "  <svg xmlns=\"http://www.w3.org/2000/svg\" height=\"24px\"viewBox=\"0 0 24 24\"\n",
              "       width=\"24px\">\n",
              "    <path d=\"M0 0h24v24H0V0z\" fill=\"none\"/>\n",
              "    <path d=\"M18.56 5.44l.94 2.06.94-2.06 2.06-.94-2.06-.94-.94-2.06-.94 2.06-2.06.94zm-11 1L8.5 8.5l.94-2.06 2.06-.94-2.06-.94L8.5 2.5l-.94 2.06-2.06.94zm10 10l.94 2.06.94-2.06 2.06-.94-2.06-.94-.94-2.06-.94 2.06-2.06.94z\"/><path d=\"M17.41 7.96l-1.37-1.37c-.4-.4-.92-.59-1.43-.59-.52 0-1.04.2-1.43.59L10.3 9.45l-7.72 7.72c-.78.78-.78 2.05 0 2.83L4 21.41c.39.39.9.59 1.41.59.51 0 1.02-.2 1.41-.59l7.78-7.78 2.81-2.81c.8-.78.8-2.07 0-2.86zM5.41 20L4 18.59l7.72-7.72 1.47 1.35L5.41 20z\"/>\n",
              "  </svg>\n",
              "      </button>\n",
              "      \n",
              "  <style>\n",
              "    .colab-df-container {\n",
              "      display:flex;\n",
              "      flex-wrap:wrap;\n",
              "      gap: 12px;\n",
              "    }\n",
              "\n",
              "    .colab-df-convert {\n",
              "      background-color: #E8F0FE;\n",
              "      border: none;\n",
              "      border-radius: 50%;\n",
              "      cursor: pointer;\n",
              "      display: none;\n",
              "      fill: #1967D2;\n",
              "      height: 32px;\n",
              "      padding: 0 0 0 0;\n",
              "      width: 32px;\n",
              "    }\n",
              "\n",
              "    .colab-df-convert:hover {\n",
              "      background-color: #E2EBFA;\n",
              "      box-shadow: 0px 1px 2px rgba(60, 64, 67, 0.3), 0px 1px 3px 1px rgba(60, 64, 67, 0.15);\n",
              "      fill: #174EA6;\n",
              "    }\n",
              "\n",
              "    [theme=dark] .colab-df-convert {\n",
              "      background-color: #3B4455;\n",
              "      fill: #D2E3FC;\n",
              "    }\n",
              "\n",
              "    [theme=dark] .colab-df-convert:hover {\n",
              "      background-color: #434B5C;\n",
              "      box-shadow: 0px 1px 3px 1px rgba(0, 0, 0, 0.15);\n",
              "      filter: drop-shadow(0px 1px 2px rgba(0, 0, 0, 0.3));\n",
              "      fill: #FFFFFF;\n",
              "    }\n",
              "  </style>\n",
              "\n",
              "      <script>\n",
              "        const buttonEl =\n",
              "          document.querySelector('#df-54dbfda3-7f0c-4f0a-9de1-f8b6ba775209 button.colab-df-convert');\n",
              "        buttonEl.style.display =\n",
              "          google.colab.kernel.accessAllowed ? 'block' : 'none';\n",
              "\n",
              "        async function convertToInteractive(key) {\n",
              "          const element = document.querySelector('#df-54dbfda3-7f0c-4f0a-9de1-f8b6ba775209');\n",
              "          const dataTable =\n",
              "            await google.colab.kernel.invokeFunction('convertToInteractive',\n",
              "                                                     [key], {});\n",
              "          if (!dataTable) return;\n",
              "\n",
              "          const docLinkHtml = 'Like what you see? Visit the ' +\n",
              "            '<a target=\"_blank\" href=https://colab.research.google.com/notebooks/data_table.ipynb>data table notebook</a>'\n",
              "            + ' to learn more about interactive tables.';\n",
              "          element.innerHTML = '';\n",
              "          dataTable['output_type'] = 'display_data';\n",
              "          await google.colab.output.renderOutput(dataTable, element);\n",
              "          const docLink = document.createElement('div');\n",
              "          docLink.innerHTML = docLinkHtml;\n",
              "          element.appendChild(docLink);\n",
              "        }\n",
              "      </script>\n",
              "    </div>\n",
              "  </div>\n",
              "  "
            ]
          },
          "metadata": {},
          "execution_count": 9
        }
      ]
    },
    {
      "cell_type": "code",
      "source": [
        "#Get info, look for missing values, get a sense of what format each variable is in\n",
        "\n",
        "\n",
        "df.info()\n",
        "#We are attempting to predict score\n",
        "#Look at correlations between variables to identify best predictor for response (score)\n",
        "df.corr()\n",
        "\n",
        "#Can see the strongest predictor of score is cost, with a 96% correlation"
      ],
      "metadata": {
        "colab": {
          "base_uri": "https://localhost:8080/",
          "height": 820
        },
        "id": "-I94QGEyfbiq",
        "outputId": "c9ff2913-5256-4a6e-e111-c3caad102675"
      },
      "execution_count": 8,
      "outputs": [
        {
          "output_type": "stream",
          "name": "stdout",
          "text": [
            "<class 'pandas.core.frame.DataFrame'>\n",
            "RangeIndex: 202 entries, 0 to 201\n",
            "Data columns (total 13 columns):\n",
            " #   Column                  Non-Null Count  Dtype  \n",
            "---  ------                  --------------  -----  \n",
            " 0   PlayerName              202 non-null    object \n",
            " 1   Club                    202 non-null    object \n",
            " 2   DistanceCovered(InKms)  202 non-null    float64\n",
            " 3   Goals                   202 non-null    float64\n",
            " 4   MinutestoGoalRatio      202 non-null    float64\n",
            " 5   ShotsPerGame            202 non-null    float64\n",
            " 6   AgentCharges            202 non-null    int64  \n",
            " 7   BMI                     202 non-null    float64\n",
            " 8   Cost                    202 non-null    float64\n",
            " 9   PreviousClubCost        202 non-null    float64\n",
            " 10  Height                  202 non-null    float64\n",
            " 11  Weight                  202 non-null    float64\n",
            " 12  Score                   202 non-null    float64\n",
            "dtypes: float64(10), int64(1), object(2)\n",
            "memory usage: 20.6+ KB\n"
          ]
        },
        {
          "output_type": "execute_result",
          "data": {
            "text/plain": [
              "                        DistanceCovered(InKms)     Goals  MinutestoGoalRatio  \\\n",
              "DistanceCovered(InKms)                1.000000  0.147098            0.924964   \n",
              "Goals                                 0.147098  1.000000            0.153333   \n",
              "MinutestoGoalRatio                    0.924964  0.153333            1.000000   \n",
              "ShotsPerGame                          0.888800  0.134721            0.950757   \n",
              "AgentCharges                          0.250865  0.131973            0.258240   \n",
              "BMI                                   0.299471  0.177032            0.320527   \n",
              "Cost                                 -0.403004  0.137131           -0.449135   \n",
              "PreviousClubCost                      0.550975  0.102734            0.583375   \n",
              "Height                                0.358854  0.076958            0.371192   \n",
              "Weight                                0.403743  0.155844            0.423699   \n",
              "Score                                -0.493512  0.108114           -0.532449   \n",
              "\n",
              "                        ShotsPerGame  AgentCharges       BMI      Cost  \\\n",
              "DistanceCovered(InKms)      0.888800      0.250865  0.299471 -0.403004   \n",
              "Goals                       0.134721      0.131973  0.177032  0.137131   \n",
              "MinutestoGoalRatio          0.950757      0.258240  0.320527 -0.449135   \n",
              "ShotsPerGame                1.000000      0.308391  0.382524 -0.435429   \n",
              "AgentCharges                0.308391      1.000000  0.302556 -0.108243   \n",
              "BMI                         0.382524      0.302556  1.000000  0.321116   \n",
              "Cost                       -0.435429     -0.108243  0.321116  1.000000   \n",
              "PreviousClubCost            0.610986      0.317581  0.713858 -0.207749   \n",
              "Height                      0.352322      0.123255  0.337097 -0.071253   \n",
              "Weight                      0.455255      0.273686  0.845955  0.154227   \n",
              "Score                      -0.531522     -0.183386  0.187558  0.963017   \n",
              "\n",
              "                        PreviousClubCost    Height    Weight     Score  \n",
              "DistanceCovered(InKms)          0.550975  0.358854  0.403743 -0.493512  \n",
              "Goals                           0.102734  0.076958  0.155844  0.108114  \n",
              "MinutestoGoalRatio              0.583375  0.371192  0.423699 -0.532449  \n",
              "ShotsPerGame                    0.610986  0.352322  0.455255 -0.531522  \n",
              "AgentCharges                    0.317581  0.123255  0.273686 -0.183386  \n",
              "BMI                             0.713858  0.337097  0.845955  0.187558  \n",
              "Cost                           -0.207749 -0.071253  0.154227  0.963017  \n",
              "PreviousClubCost                1.000000  0.802119  0.930904 -0.361850  \n",
              "Height                          0.802119  1.000000  0.780906 -0.188022  \n",
              "Weight                          0.930904  0.780906  1.000000 -0.000162  \n",
              "Score                          -0.361850 -0.188022 -0.000162  1.000000  "
            ],
            "text/html": [
              "\n",
              "  <div id=\"df-28e4ef35-3d41-4635-a1ee-71a941a035a4\">\n",
              "    <div class=\"colab-df-container\">\n",
              "      <div>\n",
              "<style scoped>\n",
              "    .dataframe tbody tr th:only-of-type {\n",
              "        vertical-align: middle;\n",
              "    }\n",
              "\n",
              "    .dataframe tbody tr th {\n",
              "        vertical-align: top;\n",
              "    }\n",
              "\n",
              "    .dataframe thead th {\n",
              "        text-align: right;\n",
              "    }\n",
              "</style>\n",
              "<table border=\"1\" class=\"dataframe\">\n",
              "  <thead>\n",
              "    <tr style=\"text-align: right;\">\n",
              "      <th></th>\n",
              "      <th>DistanceCovered(InKms)</th>\n",
              "      <th>Goals</th>\n",
              "      <th>MinutestoGoalRatio</th>\n",
              "      <th>ShotsPerGame</th>\n",
              "      <th>AgentCharges</th>\n",
              "      <th>BMI</th>\n",
              "      <th>Cost</th>\n",
              "      <th>PreviousClubCost</th>\n",
              "      <th>Height</th>\n",
              "      <th>Weight</th>\n",
              "      <th>Score</th>\n",
              "    </tr>\n",
              "  </thead>\n",
              "  <tbody>\n",
              "    <tr>\n",
              "      <th>DistanceCovered(InKms)</th>\n",
              "      <td>1.000000</td>\n",
              "      <td>0.147098</td>\n",
              "      <td>0.924964</td>\n",
              "      <td>0.888800</td>\n",
              "      <td>0.250865</td>\n",
              "      <td>0.299471</td>\n",
              "      <td>-0.403004</td>\n",
              "      <td>0.550975</td>\n",
              "      <td>0.358854</td>\n",
              "      <td>0.403743</td>\n",
              "      <td>-0.493512</td>\n",
              "    </tr>\n",
              "    <tr>\n",
              "      <th>Goals</th>\n",
              "      <td>0.147098</td>\n",
              "      <td>1.000000</td>\n",
              "      <td>0.153333</td>\n",
              "      <td>0.134721</td>\n",
              "      <td>0.131973</td>\n",
              "      <td>0.177032</td>\n",
              "      <td>0.137131</td>\n",
              "      <td>0.102734</td>\n",
              "      <td>0.076958</td>\n",
              "      <td>0.155844</td>\n",
              "      <td>0.108114</td>\n",
              "    </tr>\n",
              "    <tr>\n",
              "      <th>MinutestoGoalRatio</th>\n",
              "      <td>0.924964</td>\n",
              "      <td>0.153333</td>\n",
              "      <td>1.000000</td>\n",
              "      <td>0.950757</td>\n",
              "      <td>0.258240</td>\n",
              "      <td>0.320527</td>\n",
              "      <td>-0.449135</td>\n",
              "      <td>0.583375</td>\n",
              "      <td>0.371192</td>\n",
              "      <td>0.423699</td>\n",
              "      <td>-0.532449</td>\n",
              "    </tr>\n",
              "    <tr>\n",
              "      <th>ShotsPerGame</th>\n",
              "      <td>0.888800</td>\n",
              "      <td>0.134721</td>\n",
              "      <td>0.950757</td>\n",
              "      <td>1.000000</td>\n",
              "      <td>0.308391</td>\n",
              "      <td>0.382524</td>\n",
              "      <td>-0.435429</td>\n",
              "      <td>0.610986</td>\n",
              "      <td>0.352322</td>\n",
              "      <td>0.455255</td>\n",
              "      <td>-0.531522</td>\n",
              "    </tr>\n",
              "    <tr>\n",
              "      <th>AgentCharges</th>\n",
              "      <td>0.250865</td>\n",
              "      <td>0.131973</td>\n",
              "      <td>0.258240</td>\n",
              "      <td>0.308391</td>\n",
              "      <td>1.000000</td>\n",
              "      <td>0.302556</td>\n",
              "      <td>-0.108243</td>\n",
              "      <td>0.317581</td>\n",
              "      <td>0.123255</td>\n",
              "      <td>0.273686</td>\n",
              "      <td>-0.183386</td>\n",
              "    </tr>\n",
              "    <tr>\n",
              "      <th>BMI</th>\n",
              "      <td>0.299471</td>\n",
              "      <td>0.177032</td>\n",
              "      <td>0.320527</td>\n",
              "      <td>0.382524</td>\n",
              "      <td>0.302556</td>\n",
              "      <td>1.000000</td>\n",
              "      <td>0.321116</td>\n",
              "      <td>0.713858</td>\n",
              "      <td>0.337097</td>\n",
              "      <td>0.845955</td>\n",
              "      <td>0.187558</td>\n",
              "    </tr>\n",
              "    <tr>\n",
              "      <th>Cost</th>\n",
              "      <td>-0.403004</td>\n",
              "      <td>0.137131</td>\n",
              "      <td>-0.449135</td>\n",
              "      <td>-0.435429</td>\n",
              "      <td>-0.108243</td>\n",
              "      <td>0.321116</td>\n",
              "      <td>1.000000</td>\n",
              "      <td>-0.207749</td>\n",
              "      <td>-0.071253</td>\n",
              "      <td>0.154227</td>\n",
              "      <td>0.963017</td>\n",
              "    </tr>\n",
              "    <tr>\n",
              "      <th>PreviousClubCost</th>\n",
              "      <td>0.550975</td>\n",
              "      <td>0.102734</td>\n",
              "      <td>0.583375</td>\n",
              "      <td>0.610986</td>\n",
              "      <td>0.317581</td>\n",
              "      <td>0.713858</td>\n",
              "      <td>-0.207749</td>\n",
              "      <td>1.000000</td>\n",
              "      <td>0.802119</td>\n",
              "      <td>0.930904</td>\n",
              "      <td>-0.361850</td>\n",
              "    </tr>\n",
              "    <tr>\n",
              "      <th>Height</th>\n",
              "      <td>0.358854</td>\n",
              "      <td>0.076958</td>\n",
              "      <td>0.371192</td>\n",
              "      <td>0.352322</td>\n",
              "      <td>0.123255</td>\n",
              "      <td>0.337097</td>\n",
              "      <td>-0.071253</td>\n",
              "      <td>0.802119</td>\n",
              "      <td>1.000000</td>\n",
              "      <td>0.780906</td>\n",
              "      <td>-0.188022</td>\n",
              "    </tr>\n",
              "    <tr>\n",
              "      <th>Weight</th>\n",
              "      <td>0.403743</td>\n",
              "      <td>0.155844</td>\n",
              "      <td>0.423699</td>\n",
              "      <td>0.455255</td>\n",
              "      <td>0.273686</td>\n",
              "      <td>0.845955</td>\n",
              "      <td>0.154227</td>\n",
              "      <td>0.930904</td>\n",
              "      <td>0.780906</td>\n",
              "      <td>1.000000</td>\n",
              "      <td>-0.000162</td>\n",
              "    </tr>\n",
              "    <tr>\n",
              "      <th>Score</th>\n",
              "      <td>-0.493512</td>\n",
              "      <td>0.108114</td>\n",
              "      <td>-0.532449</td>\n",
              "      <td>-0.531522</td>\n",
              "      <td>-0.183386</td>\n",
              "      <td>0.187558</td>\n",
              "      <td>0.963017</td>\n",
              "      <td>-0.361850</td>\n",
              "      <td>-0.188022</td>\n",
              "      <td>-0.000162</td>\n",
              "      <td>1.000000</td>\n",
              "    </tr>\n",
              "  </tbody>\n",
              "</table>\n",
              "</div>\n",
              "      <button class=\"colab-df-convert\" onclick=\"convertToInteractive('df-28e4ef35-3d41-4635-a1ee-71a941a035a4')\"\n",
              "              title=\"Convert this dataframe to an interactive table.\"\n",
              "              style=\"display:none;\">\n",
              "        \n",
              "  <svg xmlns=\"http://www.w3.org/2000/svg\" height=\"24px\"viewBox=\"0 0 24 24\"\n",
              "       width=\"24px\">\n",
              "    <path d=\"M0 0h24v24H0V0z\" fill=\"none\"/>\n",
              "    <path d=\"M18.56 5.44l.94 2.06.94-2.06 2.06-.94-2.06-.94-.94-2.06-.94 2.06-2.06.94zm-11 1L8.5 8.5l.94-2.06 2.06-.94-2.06-.94L8.5 2.5l-.94 2.06-2.06.94zm10 10l.94 2.06.94-2.06 2.06-.94-2.06-.94-.94-2.06-.94 2.06-2.06.94z\"/><path d=\"M17.41 7.96l-1.37-1.37c-.4-.4-.92-.59-1.43-.59-.52 0-1.04.2-1.43.59L10.3 9.45l-7.72 7.72c-.78.78-.78 2.05 0 2.83L4 21.41c.39.39.9.59 1.41.59.51 0 1.02-.2 1.41-.59l7.78-7.78 2.81-2.81c.8-.78.8-2.07 0-2.86zM5.41 20L4 18.59l7.72-7.72 1.47 1.35L5.41 20z\"/>\n",
              "  </svg>\n",
              "      </button>\n",
              "      \n",
              "  <style>\n",
              "    .colab-df-container {\n",
              "      display:flex;\n",
              "      flex-wrap:wrap;\n",
              "      gap: 12px;\n",
              "    }\n",
              "\n",
              "    .colab-df-convert {\n",
              "      background-color: #E8F0FE;\n",
              "      border: none;\n",
              "      border-radius: 50%;\n",
              "      cursor: pointer;\n",
              "      display: none;\n",
              "      fill: #1967D2;\n",
              "      height: 32px;\n",
              "      padding: 0 0 0 0;\n",
              "      width: 32px;\n",
              "    }\n",
              "\n",
              "    .colab-df-convert:hover {\n",
              "      background-color: #E2EBFA;\n",
              "      box-shadow: 0px 1px 2px rgba(60, 64, 67, 0.3), 0px 1px 3px 1px rgba(60, 64, 67, 0.15);\n",
              "      fill: #174EA6;\n",
              "    }\n",
              "\n",
              "    [theme=dark] .colab-df-convert {\n",
              "      background-color: #3B4455;\n",
              "      fill: #D2E3FC;\n",
              "    }\n",
              "\n",
              "    [theme=dark] .colab-df-convert:hover {\n",
              "      background-color: #434B5C;\n",
              "      box-shadow: 0px 1px 3px 1px rgba(0, 0, 0, 0.15);\n",
              "      filter: drop-shadow(0px 1px 2px rgba(0, 0, 0, 0.3));\n",
              "      fill: #FFFFFF;\n",
              "    }\n",
              "  </style>\n",
              "\n",
              "      <script>\n",
              "        const buttonEl =\n",
              "          document.querySelector('#df-28e4ef35-3d41-4635-a1ee-71a941a035a4 button.colab-df-convert');\n",
              "        buttonEl.style.display =\n",
              "          google.colab.kernel.accessAllowed ? 'block' : 'none';\n",
              "\n",
              "        async function convertToInteractive(key) {\n",
              "          const element = document.querySelector('#df-28e4ef35-3d41-4635-a1ee-71a941a035a4');\n",
              "          const dataTable =\n",
              "            await google.colab.kernel.invokeFunction('convertToInteractive',\n",
              "                                                     [key], {});\n",
              "          if (!dataTable) return;\n",
              "\n",
              "          const docLinkHtml = 'Like what you see? Visit the ' +\n",
              "            '<a target=\"_blank\" href=https://colab.research.google.com/notebooks/data_table.ipynb>data table notebook</a>'\n",
              "            + ' to learn more about interactive tables.';\n",
              "          element.innerHTML = '';\n",
              "          dataTable['output_type'] = 'display_data';\n",
              "          await google.colab.output.renderOutput(dataTable, element);\n",
              "          const docLink = document.createElement('div');\n",
              "          docLink.innerHTML = docLinkHtml;\n",
              "          element.appendChild(docLink);\n",
              "        }\n",
              "      </script>\n",
              "    </div>\n",
              "  </div>\n",
              "  "
            ]
          },
          "metadata": {},
          "execution_count": 8
        }
      ]
    },
    {
      "cell_type": "code",
      "source": [
        "plt.scatter(df['Cost'],df['Score'])\n",
        "plt.title(\"Scatter Plot between cost and score\")\n",
        "plt.xlabel(\"Cost\")\n",
        "plt.ylabel(\"Score\")\n",
        "#Strong linear association between cost and score, maybe some concern with model\n",
        "# after a cost of 125 or so!\n"
      ],
      "metadata": {
        "colab": {
          "base_uri": "https://localhost:8080/",
          "height": 313
        },
        "id": "KF2iBWjwfjbM",
        "outputId": "adc79fb7-f167-4a60-81c1-3c340c5769d1"
      },
      "execution_count": 13,
      "outputs": [
        {
          "output_type": "execute_result",
          "data": {
            "text/plain": [
              "Text(0, 0.5, 'Score')"
            ]
          },
          "metadata": {},
          "execution_count": 13
        },
        {
          "output_type": "display_data",
          "data": {
            "text/plain": [
              "<Figure size 432x288 with 1 Axes>"
            ],
            "image/png": "[encoded data removed]"
          },
          "metadata": {
            "needs_background": "light"
          }
        }
      ]
    },
    {
      "cell_type": "code",
      "source": [
        "#Assign x, y then do training testing split\n",
        "x=df['Cost']\n",
        "y=df['Score']\n",
        "\n",
        "#Splitting with 75% training, 25% testing data\n",
        "x_train, x_test, y_train, y_test = train_test_split(x, y, train_size = 0.75,\n",
        "                                                    test_size = 0.25, random_state = 100)"
      ],
      "metadata": {
        "id": "HLZ-QgylgNzq"
      },
      "execution_count": 14,
      "outputs": []
    },
    {
      "cell_type": "code",
      "source": [
        "#statsmodel approach to regression\n",
        "# fit the model\n",
        "lr = sm.OLS(y_train, x_train).fit()\n",
        "\n",
        "# Printing the parameters\n",
        "lr.params\n",
        "lr.summary()\n",
        "\n",
        "#force intercept term\n",
        "x_train_with_intercept = sm.add_constant(x_train)\n",
        "lr = sm.OLS(y_train, x_train_with_intercept).fit()\n",
        "lr.summary()\n"
      ],
      "metadata": {
        "colab": {
          "base_uri": "https://localhost:8080/",
          "height": 498
        },
        "id": "snoqWtIzhEmh",
        "outputId": "01c6a98e-9d22-418e-a6ac-f0911cfe29d9"
      },
      "execution_count": 15,
      "outputs": [
        {
          "output_type": "stream",
          "name": "stderr",
          "text": [
            "/usr/local/lib/python3.7/dist-packages/statsmodels/tsa/tsatools.py:142: FutureWarning: In a future version of pandas all arguments of concat except for the argument 'objs' will be keyword-only\n",
            "  x = pd.concat(x[::order], 1)\n"
          ]
        },
        {
          "output_type": "execute_result",
          "data": {
            "text/plain": [
              "<class 'statsmodels.iolib.summary.Summary'>\n",
              "\"\"\"\n",
              "                            OLS Regression Results                            \n",
              "==============================================================================\n",
              "Dep. Variable:                  Score   R-squared:                       0.930\n",
              "Model:                            OLS   Adj. R-squared:                  0.929\n",
              "Method:                 Least Squares   F-statistic:                     1976.\n",
              "Date:                Mon, 12 Sep 2022   Prob (F-statistic):           6.91e-88\n",
              "Time:                        07:06:08   Log-Likelihood:                -293.23\n",
              "No. Observations:                 151   AIC:                             590.5\n",
              "Df Residuals:                     149   BIC:                             596.5\n",
              "Df Model:                           1                                         \n",
              "Covariance Type:            nonrobust                                         \n",
              "==============================================================================\n",
              "                 coef    std err          t      P>|t|      [0.025      0.975]\n",
              "------------------------------------------------------------------------------\n",
              "const          0.9472      0.325      2.916      0.004       0.305       1.589\n",
              "Cost           0.1821      0.004     44.456      0.000       0.174       0.190\n",
              "==============================================================================\n",
              "Omnibus:                        3.849   Durbin-Watson:                   1.821\n",
              "Prob(Omnibus):                  0.146   Jarque-Bera (JB):                3.867\n",
              "Skew:                           0.359   Prob(JB):                        0.145\n",
              "Kurtosis:                       2.685   Cond. No.                         186.\n",
              "==============================================================================\n",
              "\n",
              "Notes:\n",
              "[1] Standard Errors assume that the covariance matrix of the errors is correctly specified.\n",
              "\"\"\""
            ],
            "text/html": [
              "<table class=\"simpletable\">\n",
              "<caption>OLS Regression Results</caption>\n",
              "<tr>\n",
              "  <th>Dep. Variable:</th>          <td>Score</td>      <th>  R-squared:         </th> <td>   0.930</td>\n",
              "</tr>\n",
              "<tr>\n",
              "  <th>Model:</th>                   <td>OLS</td>       <th>  Adj. R-squared:    </th> <td>   0.929</td>\n",
              "</tr>\n",
              "<tr>\n",
              "  <th>Method:</th>             <td>Least Squares</td>  <th>  F-statistic:       </th> <td>   1976.</td>\n",
              "</tr>\n",
              "<tr>\n",
              "  <th>Date:</th>             <td>Mon, 12 Sep 2022</td> <th>  Prob (F-statistic):</th> <td>6.91e-88</td>\n",
              "</tr>\n",
              "<tr>\n",
              "  <th>Time:</th>                 <td>07:06:08</td>     <th>  Log-Likelihood:    </th> <td> -293.23</td>\n",
              "</tr>\n",
              "<tr>\n",
              "  <th>No. Observations:</th>      <td>   151</td>      <th>  AIC:               </th> <td>   590.5</td>\n",
              "</tr>\n",
              "<tr>\n",
              "  <th>Df Residuals:</th>          <td>   149</td>      <th>  BIC:               </th> <td>   596.5</td>\n",
              "</tr>\n",
              "<tr>\n",
              "  <th>Df Model:</th>              <td>     1</td>      <th>                     </th>     <td> </td>   \n",
              "</tr>\n",
              "<tr>\n",
              "  <th>Covariance Type:</th>      <td>nonrobust</td>    <th>                     </th>     <td> </td>   \n",
              "</tr>\n",
              "</table>\n",
              "<table class=\"simpletable\">\n",
              "<tr>\n",
              "    <td></td>       <th>coef</th>     <th>std err</th>      <th>t</th>      <th>P>|t|</th>  <th>[0.025</th>    <th>0.975]</th>  \n",
              "</tr>\n",
              "<tr>\n",
              "  <th>const</th> <td>    0.9472</td> <td>    0.325</td> <td>    2.916</td> <td> 0.004</td> <td>    0.305</td> <td>    1.589</td>\n",
              "</tr>\n",
              "<tr>\n",
              "  <th>Cost</th>  <td>    0.1821</td> <td>    0.004</td> <td>   44.456</td> <td> 0.000</td> <td>    0.174</td> <td>    0.190</td>\n",
              "</tr>\n",
              "</table>\n",
              "<table class=\"simpletable\">\n",
              "<tr>\n",
              "  <th>Omnibus:</th>       <td> 3.849</td> <th>  Durbin-Watson:     </th> <td>   1.821</td>\n",
              "</tr>\n",
              "<tr>\n",
              "  <th>Prob(Omnibus):</th> <td> 0.146</td> <th>  Jarque-Bera (JB):  </th> <td>   3.867</td>\n",
              "</tr>\n",
              "<tr>\n",
              "  <th>Skew:</th>          <td> 0.359</td> <th>  Prob(JB):          </th> <td>   0.145</td>\n",
              "</tr>\n",
              "<tr>\n",
              "  <th>Kurtosis:</th>      <td> 2.685</td> <th>  Cond. No.          </th> <td>    186.</td>\n",
              "</tr>\n",
              "</table><br/><br/>Notes:<br/>[1] Standard Errors assume that the covariance matrix of the errors is correctly specified."
            ]
          },
          "metadata": {},
          "execution_count": 15
        }
      ]
    },
    {
      "cell_type": "code",
      "source": [
        "print(lr.params)\n",
        "b0=lr.params[0]\n",
        "b1=lr.params[1]\n",
        "\n",
        "#Plot the fitted line on training data\n",
        "plt.scatter(x_train, y_train)\n",
        "plt.plot(x_train, b0+ b1*x_train, 'r')\n",
        "plt.show()"
      ],
      "metadata": {
        "colab": {
          "base_uri": "https://localhost:8080/",
          "height": 319
        },
        "id": "52xihJNEhQRb",
        "outputId": "4d82e2a5-1d52-4f08-d026-58193fce2cb4"
      },
      "execution_count": 17,
      "outputs": [
        {
          "output_type": "stream",
          "name": "stdout",
          "text": [
            "const    0.947185\n",
            "Cost     0.182083\n",
            "dtype: float64\n"
          ]
        },
        {
          "output_type": "display_data",
          "data": {
            "text/plain": [
              "<Figure size 432x288 with 1 Axes>"
            ],
            "image/png": "[encoded data removed]"
          },
          "metadata": {
            "needs_background": "light"
          }
        }
      ]
    },
    {
      "cell_type": "code",
      "source": [
        "#Plot the fitted line on test data\n",
        "\n",
        "x_test_with_intercept = sm.add_constant(x_test)\n",
        "y_test_fitted = lr.predict(x_test_with_intercept)\n",
        "\n",
        "\n",
        "plt.scatter(x_test, y_test)\n",
        "plt.plot(x_test, y_test_fitted, 'r')\n",
        "plt.show()\n",
        "\n"
      ],
      "metadata": {
        "colab": {
          "base_uri": "https://localhost:8080/",
          "height": 321
        },
        "id": "SPr_c9rgiMaP",
        "outputId": "48717cdf-e21c-41a4-c01e-16910b569de2"
      },
      "execution_count": 19,
      "outputs": [
        {
          "output_type": "stream",
          "name": "stderr",
          "text": [
            "/usr/local/lib/python3.7/dist-packages/statsmodels/tsa/tsatools.py:142: FutureWarning: In a future version of pandas all arguments of concat except for the argument 'objs' will be keyword-only\n",
            "  x = pd.concat(x[::order], 1)\n"
          ]
        },
        {
          "output_type": "display_data",
          "data": {
            "text/plain": [
              "<Figure size 432x288 with 1 Axes>"
            ],
            "image/png": "[encoded data removed]"
          },
          "metadata": {
            "needs_background": "light"
          }
        }
      ]
    },
    {
      "cell_type": "code",
      "source": [
        "#DIAGNOSTICS (https://www.originlab.com/doc/origin-help/residual-plot-analysis)\n",
        "\n",
        "#CHECKLIST:\n",
        "# NON-LINEARITY(https://www.geeksforgeeks.org/how-to-create-a-residual-plot-in-python/)\n",
        "# NON-CONSTANT VARIANCE\n",
        "# DEVIATIONS FROM NORMALITY\n",
        "# ERRORS NOT IID\n",
        "# OUTLIERS\n",
        "# MISSING PREDICTORS\n",
        "\n",
        "\n",
        "\n",
        "#Build predictions on training data\n",
        "predictions_y = lr.predict(x_train_with_intercept)\n",
        "\n",
        "#Find residuals\n",
        "r_i = (y_train - predictions_y)\n",
        "\n",
        "\n",
        "#Residuals vs. predictor in training data\n",
        "plt.title(' Residuals vs. Cost')\n",
        "plt.xlabel('Cost',fontsize=15)\n",
        "plt.scatter(x_train, r_i)\n",
        "plt.show()\n",
        "\n",
        "\n",
        "\n",
        "\n",
        "#Absolute residuals against predictor\n",
        "abs_r_i = np.abs(y_train - predictions_y)\n",
        "plt.title('Absolute Residuals vs. Cost')\n",
        "plt.xlabel('Cost',fontsize=15)\n",
        "plt.scatter(x_train, abs_r_i)\n",
        "plt.show()\n",
        "\n",
        "\n",
        "\n",
        "#Tails might be a little heavy, but overall no clear reason to reject normality expectations\n",
        "# Evaluate normality through histogram of residuals\n",
        "# Plotting the histogram using the residual values\n",
        "fig = plt.figure()\n",
        "sns.distplot(r_i, bins = 15)\n",
        "plt.title('Error Terms', fontsize = 15)\n",
        "plt.xlabel('y_train - y_train_pred', fontsize = 15)\n",
        "plt.show()\n",
        "\n",
        "#Boxplot for outliers\n",
        "# plot\n",
        "plt.boxplot(r_i, boxprops=dict(color='red'))\n",
        "plt.title('Residual Boxplot');"
      ],
      "metadata": {
        "colab": {
          "base_uri": "https://localhost:8080/",
          "height": 1000
        },
        "id": "VoGjaAeMik6x",
        "outputId": "2e0a6daf-b7f5-46af-f11e-5840f7edf9c9"
      },
      "execution_count": 22,
      "outputs": [
        {
          "output_type": "display_data",
          "data": {
            "text/plain": [
              "<Figure size 432x288 with 1 Axes>"
            ],
            "image/png": "[encoded data removed]"
          },
          "metadata": {
            "needs_background": "light"
          }
        },
        {
          "output_type": "display_data",
          "data": {
            "text/plain": [
              "<Figure size 432x288 with 1 Axes>"
            ],
            "image/png": "[encoded data removed]"
          },
          "metadata": {
            "needs_background": "light"
          }
        },
        {
          "output_type": "stream",
          "name": "stderr",
          "text": [
            "/usr/local/lib/python3.7/dist-packages/seaborn/distributions.py:2619: FutureWarning: `distplot` is a deprecated function and will be removed in a future version. Please adapt your code to use either `displot` (a figure-level function with similar flexibility) or `histplot` (an axes-level function for histograms).\n",
            "  warnings.warn(msg, FutureWarning)\n"
          ]
        },
        {
          "output_type": "display_data",
          "data": {
            "text/plain": [
              "<Figure size 432x288 with 1 Axes>"
            ],
            "image/png": "[encoded data removed]"
          },
          "metadata": {
            "needs_background": "light"
          }
        },
        {
          "output_type": "display_data",
          "data": {
            "text/plain": [
              "<Figure size 432x288 with 1 Axes>"
            ],
            "image/png": "[encoded data removed]"
          },
          "metadata": {
            "needs_background": "light"
          }
        }
      ]
    },
    {
      "cell_type": "code",
      "source": [
        "#Demo of how to deal with non-constant variance through transformations\n",
        "\n",
        "test_residuals=(y_test-y_test_fitted)\n",
        "len(y_test)\n",
        "len(y_test_fitted)\n",
        "len(test_residuals)\n",
        "\n",
        "#Residuals vs. predictor in test set\n",
        "plt.title('Test Residuals vs. Cost')\n",
        "plt.xlabel('Cost',fontsize=15)\n",
        "plt.scatter(x_test, test_residuals)\n",
        "plt.show()\n",
        "\n",
        "#Some evidence of non-constant variance\n",
        "\n",
        "\n"
      ],
      "metadata": {
        "colab": {
          "base_uri": "https://localhost:8080/",
          "height": 300
        },
        "id": "JvFf1ItMjF5e",
        "outputId": "6f4a97ed-642b-4093-db08-5b66e74d612a"
      },
      "execution_count": 23,
      "outputs": [
        {
          "output_type": "display_data",
          "data": {
            "text/plain": [
              "<Figure size 432x288 with 1 Axes>"
            ],
            "image/png": "[encoded data removed]"
          },
          "metadata": {
            "needs_background": "light"
          }
        }
      ]
    },
    {
      "cell_type": "code",
      "source": [
        "#Demo of how to deal with non-constant variance through transformations\n",
        "\n",
        "test_residuals=(y_test-y_test_fitted)\n",
        "len(y_test)\n",
        "len(y_test_fitted)\n",
        "len(test_residuals)\n",
        "\n",
        "#Residuals vs. predictor in test set\n",
        "plt.title('Test Residuals vs. Cost')\n",
        "plt.xlabel('Cost',fontsize=15)\n",
        "plt.scatter(x_test, test_residuals)\n",
        "plt.show()\n",
        "\n",
        "#Some evidence of non-constant variance\n",
        "\n"
      ],
      "metadata": {
        "colab": {
          "base_uri": "https://localhost:8080/",
          "height": 300
        },
        "id": "frEyiiDvmpmr",
        "outputId": "d622e99d-1ec0-4d98-ecc5-99e8894aae81"
      },
      "execution_count": 24,
      "outputs": [
        {
          "output_type": "display_data",
          "data": {
            "text/plain": [
              "<Figure size 432x288 with 1 Axes>"
            ],
            "image/png": "[encoded data removed]"
          },
          "metadata": {
            "needs_background": "light"
          }
        }
      ]
    },
    {
      "cell_type": "code",
      "source": [
        "\n",
        "\n",
        "#Try sqrt\n",
        "sqrt_y=np.sqrt(y)\n",
        "plt.scatter(x, sqrt_y,color='red');\n",
        "\n",
        "#Try ln\n",
        "ln_y=np.log(y)\n",
        "plt.scatter(x, ln_y,color='blue');\n",
        "\n",
        "\n",
        "#Let's try a BC transformation\n",
        "\n",
        "#Box Cox procedure on all cost\n",
        "bc_y=list(stats.boxcox(y))\n",
        "bc_y=bc_y[0]\n",
        "plt.scatter(x, bc_y,color='orange');\n",
        "\n",
        "#Overall, most satisfied with the sqrt transformation"
      ],
      "metadata": {
        "colab": {
          "base_uri": "https://localhost:8080/",
          "height": 265
        },
        "id": "894dl33po3vH",
        "outputId": "ebf0b438-495d-4066-d456-d0298dacb395"
      },
      "execution_count": 25,
      "outputs": [
        {
          "output_type": "display_data",
          "data": {
            "text/plain": [
              "<Figure size 432x288 with 1 Axes>"
            ],
            "image/png": "[encoded data removed]"
          },
          "metadata": {
            "needs_background": "light"
          }
        }
      ]
    },
    {
      "cell_type": "code",
      "source": [
        "#Run regression on this set\n",
        "\n",
        "x_train, x_test, y_train, y_test = train_test_split(x, sqrt_y, train_size = 0.75,\n",
        "                                                    test_size = 0.25, random_state = 100)\n",
        "\n",
        "\n",
        "#force intercept term\n",
        "x_train_with_intercept = sm.add_constant(x_train)\n",
        "lr = sm.OLS(y_train, x_train_with_intercept).fit()\n",
        "lr.summary()\n"
      ],
      "metadata": {
        "colab": {
          "base_uri": "https://localhost:8080/",
          "height": 498
        },
        "id": "-RIaoNRjo_Rq",
        "outputId": "ed643e28-a66e-4011-e87d-ea87f658acd0"
      },
      "execution_count": 26,
      "outputs": [
        {
          "output_type": "stream",
          "name": "stderr",
          "text": [
            "/usr/local/lib/python3.7/dist-packages/statsmodels/tsa/tsatools.py:142: FutureWarning: In a future version of pandas all arguments of concat except for the argument 'objs' will be keyword-only\n",
            "  x = pd.concat(x[::order], 1)\n"
          ]
        },
        {
          "output_type": "execute_result",
          "data": {
            "text/plain": [
              "<class 'statsmodels.iolib.summary.Summary'>\n",
              "\"\"\"\n",
              "                            OLS Regression Results                            \n",
              "==============================================================================\n",
              "Dep. Variable:                  Score   R-squared:                       0.895\n",
              "Model:                            OLS   Adj. R-squared:                  0.894\n",
              "Method:                 Least Squares   F-statistic:                     1267.\n",
              "Date:                Mon, 12 Sep 2022   Prob (F-statistic):           9.72e-75\n",
              "Time:                        07:40:16   Log-Likelihood:                -17.200\n",
              "No. Observations:                 151   AIC:                             38.40\n",
              "Df Residuals:                     149   BIC:                             44.43\n",
              "Df Model:                           1                                         \n",
              "Covariance Type:            nonrobust                                         \n",
              "==============================================================================\n",
              "                 coef    std err          t      P>|t|      [0.025      0.975]\n",
              "------------------------------------------------------------------------------\n",
              "const          1.9674      0.052     37.683      0.000       1.864       2.071\n",
              "Cost           0.0234      0.001     35.594      0.000       0.022       0.025\n",
              "==============================================================================\n",
              "Omnibus:                        1.648   Durbin-Watson:                   1.821\n",
              "Prob(Omnibus):                  0.439   Jarque-Bera (JB):                1.360\n",
              "Skew:                           0.032   Prob(JB):                        0.507\n",
              "Kurtosis:                       2.539   Cond. No.                         186.\n",
              "==============================================================================\n",
              "\n",
              "Notes:\n",
              "[1] Standard Errors assume that the covariance matrix of the errors is correctly specified.\n",
              "\"\"\""
            ],
            "text/html": [
              "<table class=\"simpletable\">\n",
              "<caption>OLS Regression Results</caption>\n",
              "<tr>\n",
              "  <th>Dep. Variable:</th>          <td>Score</td>      <th>  R-squared:         </th> <td>   0.895</td>\n",
              "</tr>\n",
              "<tr>\n",
              "  <th>Model:</th>                   <td>OLS</td>       <th>  Adj. R-squared:    </th> <td>   0.894</td>\n",
              "</tr>\n",
              "<tr>\n",
              "  <th>Method:</th>             <td>Least Squares</td>  <th>  F-statistic:       </th> <td>   1267.</td>\n",
              "</tr>\n",
              "<tr>\n",
              "  <th>Date:</th>             <td>Mon, 12 Sep 2022</td> <th>  Prob (F-statistic):</th> <td>9.72e-75</td>\n",
              "</tr>\n",
              "<tr>\n",
              "  <th>Time:</th>                 <td>07:40:16</td>     <th>  Log-Likelihood:    </th> <td> -17.200</td>\n",
              "</tr>\n",
              "<tr>\n",
              "  <th>No. Observations:</th>      <td>   151</td>      <th>  AIC:               </th> <td>   38.40</td>\n",
              "</tr>\n",
              "<tr>\n",
              "  <th>Df Residuals:</th>          <td>   149</td>      <th>  BIC:               </th> <td>   44.43</td>\n",
              "</tr>\n",
              "<tr>\n",
              "  <th>Df Model:</th>              <td>     1</td>      <th>                     </th>     <td> </td>   \n",
              "</tr>\n",
              "<tr>\n",
              "  <th>Covariance Type:</th>      <td>nonrobust</td>    <th>                     </th>     <td> </td>   \n",
              "</tr>\n",
              "</table>\n",
              "<table class=\"simpletable\">\n",
              "<tr>\n",
              "    <td></td>       <th>coef</th>     <th>std err</th>      <th>t</th>      <th>P>|t|</th>  <th>[0.025</th>    <th>0.975]</th>  \n",
              "</tr>\n",
              "<tr>\n",
              "  <th>const</th> <td>    1.9674</td> <td>    0.052</td> <td>   37.683</td> <td> 0.000</td> <td>    1.864</td> <td>    2.071</td>\n",
              "</tr>\n",
              "<tr>\n",
              "  <th>Cost</th>  <td>    0.0234</td> <td>    0.001</td> <td>   35.594</td> <td> 0.000</td> <td>    0.022</td> <td>    0.025</td>\n",
              "</tr>\n",
              "</table>\n",
              "<table class=\"simpletable\">\n",
              "<tr>\n",
              "  <th>Omnibus:</th>       <td> 1.648</td> <th>  Durbin-Watson:     </th> <td>   1.821</td>\n",
              "</tr>\n",
              "<tr>\n",
              "  <th>Prob(Omnibus):</th> <td> 0.439</td> <th>  Jarque-Bera (JB):  </th> <td>   1.360</td>\n",
              "</tr>\n",
              "<tr>\n",
              "  <th>Skew:</th>          <td> 0.032</td> <th>  Prob(JB):          </th> <td>   0.507</td>\n",
              "</tr>\n",
              "<tr>\n",
              "  <th>Kurtosis:</th>      <td> 2.539</td> <th>  Cond. No.          </th> <td>    186.</td>\n",
              "</tr>\n",
              "</table><br/><br/>Notes:<br/>[1] Standard Errors assume that the covariance matrix of the errors is correctly specified."
            ]
          },
          "metadata": {},
          "execution_count": 26
        }
      ]
    },
    {
      "cell_type": "code",
      "source": [
        "#Extract the B0, B1\n",
        "print(lr.params)\n",
        "b0=lr.params[0]\n",
        "b1=lr.params[1]\n",
        "\n",
        "#Plot the fitted line on training data\n",
        "plt.scatter(x_train, y_train)\n",
        "plt.plot(x_train, b0+ b1*x_train, 'r')\n",
        "plt.show()"
      ],
      "metadata": {
        "colab": {
          "base_uri": "https://localhost:8080/",
          "height": 319
        },
        "id": "erg5DChgpEYu",
        "outputId": "ac963d6f-76fb-4f28-bd13-3a78ea74a206"
      },
      "execution_count": 27,
      "outputs": [
        {
          "output_type": "stream",
          "name": "stdout",
          "text": [
            "const    1.967367\n",
            "Cost     0.023433\n",
            "dtype: float64\n"
          ]
        },
        {
          "output_type": "display_data",
          "data": {
            "text/plain": [
              "<Figure size 432x288 with 1 Axes>"
            ],
            "image/png": "[encoded data removed]"
          },
          "metadata": {
            "needs_background": "light"
          }
        }
      ]
    },
    {
      "cell_type": "code",
      "source": [
        "#Plot the fitted line on test data\n",
        "\n",
        "x_test_with_intercept = sm.add_constant(x_test)\n",
        "y_test_fitted = lr.predict(x_test_with_intercept)\n",
        "\n",
        "\n",
        "plt.scatter(x_test, y_test)\n",
        "plt.plot(x_test, y_test_fitted, 'r')\n",
        "plt.show()\n",
        "\n",
        "#Evaluate variance\n",
        "#Diagnostics\n",
        "test_residuals=(y_test-y_test_fitted)\n",
        "len(y_test)\n",
        "len(y_test_fitted)\n",
        "len(test_residuals)\n",
        "\n",
        "#Residuals vs. predictor\n",
        "plt.title('Residuals vs. Cost')\n",
        "plt.xlabel('Cost',fontsize=15)\n",
        "plt.scatter(x_test, test_residuals)\n",
        "plt.show()\n",
        "\n",
        "#Non-constant variance reduced, but we also reduced our coefficient of determination"
      ],
      "metadata": {
        "colab": {
          "base_uri": "https://localhost:8080/",
          "height": 604
        },
        "id": "k0UylYDTpXZF",
        "outputId": "6a0e931e-7560-4548-cf40-8572b33f3de8"
      },
      "execution_count": 28,
      "outputs": [
        {
          "output_type": "stream",
          "name": "stderr",
          "text": [
            "/usr/local/lib/python3.7/dist-packages/statsmodels/tsa/tsatools.py:142: FutureWarning: In a future version of pandas all arguments of concat except for the argument 'objs' will be keyword-only\n",
            "  x = pd.concat(x[::order], 1)\n"
          ]
        },
        {
          "output_type": "display_data",
          "data": {
            "text/plain": [
              "<Figure size 432x288 with 1 Axes>"
            ],
            "image/png": "[encoded data removed]"
          },
          "metadata": {
            "needs_background": "light"
          }
        },
        {
          "output_type": "display_data",
          "data": {
            "text/plain": [
              "<Figure size 432x288 with 1 Axes>"
            ],
            "image/png": "[encoded data removed]"
          },
          "metadata": {
            "needs_background": "light"
          }
        }
      ]
    },
    {
      "cell_type": "code",
      "source": [],
      "metadata": {
        "id": "7vgfS8PmpeGt"
      },
      "execution_count": null,
      "outputs": []
    }
  ]
}